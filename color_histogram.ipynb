{
 "cells": [
  {
   "cell_type": "code",
   "execution_count": 54,
   "source": [
    "from mask_utils.utils import *\n",
    "from sklearn.cluster import KMeans\n",
    "from sklearn import metrics\n",
    "from scipy.spatial.distance import cdist\n",
    "import os\n",
    "from shutil import copyfile\n",
    "from tqdm.notebook import tqdm"
   ],
   "outputs": [],
   "metadata": {}
  },
  {
   "cell_type": "code",
   "execution_count": 2,
   "source": [
    "colors = [(255, 0, 0), (0, 255, 0), (0, 0, 255), (255, 255, 0),\n",
    "          (0, 255, 255), (255, 0, 255), (0, 0, 0), (255, 255, 255)]\n",
    "random.seed(2021)"
   ],
   "outputs": [],
   "metadata": {}
  },
  {
   "cell_type": "code",
   "execution_count": 3,
   "source": [
    "with open('../MERGE_OCEAN/Annotations/merge_ocean_train.json', 'r') as json_file:\n",
    "    train_anno = json.load(json_file)\n",
    "json_file.close()\n",
    "list_images = train_anno['images']\n",
    "list_names = [item['name'] for item in train_anno['categories']]"
   ],
   "outputs": [],
   "metadata": {}
  },
  {
   "cell_type": "code",
   "execution_count": 91,
   "source": [
    "def color_histogram(image_dict: dict) -> np.array:\n",
    "    img_path = image_dict['file_name']\n",
    "    img = cv2.imread(img_path)\n",
    "\n",
    "    # Calculate histogram without mask\n",
    "    hist1 = cv2.calcHist([img],[0],None,[32],[0,256])\n",
    "    hist2 = cv2.calcHist([img],[1],None,[32],[0,256])\n",
    "    hist3 = cv2.calcHist([img],[2],None,[32],[0,256])\n",
    "    \n",
    "    color_hist = np.concatenate([hist1, hist2, hist3]).reshape(-1)\n",
    "    return color_hist"
   ],
   "outputs": [],
   "metadata": {}
  },
  {
   "cell_type": "code",
   "execution_count": 92,
   "source": [
    "X = []\n",
    "for img_dict in tqdm(train_anno['images']):\n",
    "    X.append(color_histogram(img_dict))\n",
    "X = np.array(X)"
   ],
   "outputs": [
    {
     "output_type": "stream",
     "name": "stderr",
     "text": [
      "Widget Javascript not detected.  It may not be installed or enabled properly.\n"
     ]
    },
    {
     "output_type": "display_data",
     "data": {
      "application/vnd.jupyter.widget-view+json": {
       "model_id": "40439fbff56a422f875edf341d02efca"
      }
     },
     "metadata": {}
    },
    {
     "output_type": "stream",
     "name": "stdout",
     "text": [
      "\n"
     ]
    }
   ],
   "metadata": {}
  },
  {
   "cell_type": "code",
   "execution_count": 93,
   "source": [
    "distortions = []\n",
    "inertias = []\n",
    "mapping1 = {}\n",
    "mapping2 = {}\n",
    "K = range(1, 10)\n",
    " \n",
    "for k in tqdm(K):\n",
    "    # Building and fitting the model\n",
    "    kmeanModel = KMeans(n_clusters=k).fit(X)\n",
    "    kmeanModel.fit(X)\n",
    " \n",
    "    distortions.append(sum(np.min(cdist(X, kmeanModel.cluster_centers_,\n",
    "                                        'euclidean'), axis=1)) / X.shape[0])\n",
    "    inertias.append(kmeanModel.inertia_)\n",
    " \n",
    "    mapping1[k] = sum(np.min(cdist(X, kmeanModel.cluster_centers_,\n",
    "                                   'euclidean'), axis=1)) / X.shape[0]\n",
    "    mapping2[k] = kmeanModel.inertia_"
   ],
   "outputs": [
    {
     "output_type": "stream",
     "name": "stderr",
     "text": [
      "Widget Javascript not detected.  It may not be installed or enabled properly.\n"
     ]
    },
    {
     "output_type": "display_data",
     "data": {
      "application/vnd.jupyter.widget-view+json": {
       "model_id": "7677ff51a35441368e33dcb42b75f7aa"
      }
     },
     "metadata": {}
    },
    {
     "output_type": "stream",
     "name": "stdout",
     "text": [
      "\n"
     ]
    }
   ],
   "metadata": {}
  },
  {
   "cell_type": "code",
   "execution_count": 94,
   "source": [
    "for key, val in mapping1.items():\n",
    "    print(f'{key} : {val}')"
   ],
   "outputs": [
    {
     "output_type": "stream",
     "name": "stdout",
     "text": [
      "1 : 458142.7435515064\n",
      "2 : 446971.41870713426\n",
      "3 : 374553.4979820726\n",
      "4 : 352688.61548548203\n",
      "5 : 342646.8141230704\n",
      "6 : 338410.7484952969\n",
      "7 : 331361.65789626614\n",
      "8 : 312878.503256586\n",
      "9 : 307459.8990261326\n"
     ]
    }
   ],
   "metadata": {}
  },
  {
   "cell_type": "code",
   "execution_count": 95,
   "source": [
    "plt.plot(K, distortions, 'bx-')\n",
    "plt.xlabel('Values of K')\n",
    "plt.ylabel('Distortion')\n",
    "plt.title('The Elbow Method using Distortion')\n",
    "plt.show()"
   ],
   "outputs": [
    {
     "output_type": "display_data",
     "data": {
      "text/plain": [
       "<Figure size 432x288 with 1 Axes>"
      ],
      "image/png": "[encoded data removed]"
     },
     "metadata": {
      "needs_background": "light"
     }
    }
   ],
   "metadata": {}
  },
  {
   "cell_type": "code",
   "execution_count": 96,
   "source": [
    "for key, val in mapping2.items():\n",
    "    print(f'{key} : {val}')"
   ],
   "outputs": [
    {
     "output_type": "stream",
     "name": "stdout",
     "text": [
      "1 : 2798526870323200.0\n",
      "2 : 2208233812918272.0\n",
      "3 : 1752201970057216.0\n",
      "4 : 1440379962392576.0\n",
      "5 : 1300642261893120.0\n",
      "6 : 1183469245825024.0\n",
      "7 : 997886527537152.0\n",
      "8 : 907892534280192.0\n",
      "9 : 780212551811072.0\n"
     ]
    }
   ],
   "metadata": {}
  },
  {
   "cell_type": "code",
   "execution_count": 97,
   "source": [
    "plt.plot(K, inertias, 'bx-')\n",
    "plt.xlabel('Values of K')\n",
    "plt.ylabel('Inertia')\n",
    "plt.title('The Elbow Method using Inertia')\n",
    "plt.show()"
   ],
   "outputs": [
    {
     "output_type": "display_data",
     "data": {
      "text/plain": [
       "<Figure size 432x288 with 1 Axes>"
      ],
      "image/png": "[encoded data removed]"
     },
     "metadata": {
      "needs_background": "light"
     }
    }
   ],
   "metadata": {}
  },
  {
   "cell_type": "code",
   "execution_count": 107,
   "source": [
    "kmeans = KMeans(n_clusters=3, random_state=0).fit(X)\n",
    "labels = kmeans.labels_"
   ],
   "outputs": [],
   "metadata": {}
  },
  {
   "cell_type": "code",
   "execution_count": 108,
   "source": [
    "for i in range(3):\n",
    "    class_i = list(np.where(labels == i)[0])\n",
    "    img_folder = '../color_cluster/{}'.format(i)\n",
    "    if not os.path.exists(img_folder):\n",
    "        os.makedirs(img_folder)\n",
    "    for j in random.sample(class_i, min(20, len(class_i))):\n",
    "        img_path = train_anno['images'][j]['file_name']\n",
    "        img_id = img_path.split('/')[-1]\n",
    "        save_path = os.path.join(img_folder, img_id)\n",
    "        \n",
    "        copyfile(img_path, save_path)\n",
    "        "
   ],
   "outputs": [],
   "metadata": {
    "scrolled": false
   }
  },
  {
   "cell_type": "code",
   "execution_count": null,
   "source": [
    "transformed_annotations = dict()\n",
    "transformed_annotations['categories'] = deepcopy(train_anno['categories'])\n",
    "transformed_annotations['images'] = []\n",
    "transformed_annotations['annotations'] = []\n",
    "count_img = 0\n",
    "count_ins = 0\n",
    "num_sample = 10\n",
    "for mis_tuple in tqdm(miscls):\n",
    "    \n",
    "    first_samples = get_class_samples(list_images, list(mis_tuple)[0], num_sample)\n",
    "    second_samples = get_class_samples(list_images, list(mis_tuple)[1], num_sample)\n",
    "    \n",
    "    for i in range(min(len(first_samples), len(second_samples))):\n",
    "        transformed_img, polygon, transformed_imganno, transformed_anno = mixup_image(first_samples[i], second_samples[i], count_img)\n",
    "        count_img += 1\n",
    "        transformed_annotations['images'].append(transformed_imganno)\n",
    "        \n",
    "        for j in range(len(transformed_anno)):\n",
    "            transformed_anno[j]['id'] = count_ins\n",
    "            count_ins += 1\n",
    "        \n",
    "        transformed_annotations['annotations'].extend(transformed_anno)\n",
    "        \n",
    "        cv2.imwrite(transformed_imganno['file_name'][1:], transformed_img)"
   ],
   "outputs": [],
   "metadata": {}
  },
  {
   "cell_type": "code",
   "execution_count": null,
   "source": [],
   "outputs": [],
   "metadata": {}
  },
  {
   "cell_type": "code",
   "execution_count": null,
   "source": [
    "with open('./MERGE_OCEAN/Annotations/augmentation++.json', 'w') as json_file:\n",
    "    json.dump(transformed_annotations, json_file)\n",
    "json_file.close()"
   ],
   "outputs": [],
   "metadata": {}
  }
 ],
 "metadata": {
  "kernelspec": {
   "display_name": "Python 3",
   "language": "python",
   "name": "python3"
  },
  "language_info": {
   "codemirror_mode": {
    "name": "ipython",
    "version": 3
   },
   "file_extension": ".py",
   "mimetype": "text/x-python",
   "name": "python",
   "nbconvert_exporter": "python",
   "pygments_lexer": "ipython3",
   "version": "3.8.10"
  }
 },
 "nbformat": 4,
 "nbformat_minor": 4
}