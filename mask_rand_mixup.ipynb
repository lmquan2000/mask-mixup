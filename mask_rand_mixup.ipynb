{
 "cells": [
  {
   "cell_type": "code",
   "execution_count": 19,
   "source": [
    "from mask_utils.utils import *\n",
    "from shutil import copyfile\n",
    "from tqdm.notebook import tqdm"
   ],
   "outputs": [],
   "metadata": {}
  },
  {
   "cell_type": "code",
   "execution_count": 6,
   "source": [
    "colors = [(255, 0, 0), (0, 255, 0), (0, 0, 255), (255, 255, 0),\n",
    "          (0, 255, 255), (255, 0, 255), (0, 0, 0), (255, 255, 255)]\n",
    "random.seed(2021)\n",
    "np.random.seed(2021)"
   ],
   "outputs": [],
   "metadata": {}
  },
  {
   "cell_type": "code",
   "execution_count": 3,
   "source": [
    "with open('../MERGE_OCEAN/Annotations/merge_ocean_train.json', 'r') as json_file:\n",
    "    train_anno = json.load(json_file)\n",
    "json_file.close()\n",
    "list_images = train_anno['images']\n",
    "list_names = [item['name'] for item in train_anno['categories']]"
   ],
   "outputs": [],
   "metadata": {}
  },
  {
   "cell_type": "code",
   "execution_count": null,
   "source": [
    "n = 1\n",
    "p = 0.5\n",
    "MAX_INDEX = len(list_images)\n",
    "np.random.seed(2021)\n",
    "s = np.random.binomial(n, p, MAX_INDEX)\n",
    "\n",
    "transformed_annotations = dict()\n",
    "transformed_annotations['categories'] = deepcopy(train_anno['categories'])\n",
    "transformed_annotations['images'] = []\n",
    "transformed_annotations['annotations'] = []\n",
    "count_img = 0\n",
    "count_ins = 0\n",
    "    \n",
    "for i in tqdm(range(MAX_INDEX)):\n",
    "    \n",
    "    if s[i] == 1:\n",
    "        while True:\n",
    "            x = random.randint(0, MAX_INDEX-1)\n",
    "            if x != i:\n",
    "                break\n",
    "                \n",
    "        transformed_img, polygon, transformed_imganno, transformed_anno = mixup_image(list_images[i], \n",
    "                                                                                      list_images[x], \n",
    "                                                                                      count_img, \n",
    "                                                                                      '../MERGE_OCEAN/Train/RAND_MIXUP', \n",
    "                                                                                      train_anno)\n",
    "\n",
    "        cv2.imwrite(transformed_imganno['file_name'], transformed_img)\n",
    "        \n",
    "    else:\n",
    "        transformed_anno = []\n",
    "        img_id = list_images[i]['id']\n",
    "        for ann in train_anno['annotations']:\n",
    "            image_id = ann['image_id']\n",
    "            if image_id == img_id:\n",
    "                tmp_ann = deepcopy(ann)\n",
    "                tmp_ann['image_id'] = count_img\n",
    "                transformed_anno.append(tmp_ann)\n",
    "                \n",
    "        transformed_imganno = deepcopy(list_images[i])\n",
    "        transformed_imganno['id'] = count_img\n",
    "        \n",
    "    count_img += 1\n",
    "    transformed_annotations['images'].append(transformed_imganno)\n",
    "\n",
    "    for j in range(len(transformed_anno)):\n",
    "        transformed_anno[j]['id'] = count_ins\n",
    "        count_ins += 1\n",
    "\n",
    "    transformed_annotations['annotations'].extend(transformed_anno)    "
   ],
   "outputs": [],
   "metadata": {
    "collapsed": true
   }
  },
  {
   "cell_type": "code",
   "execution_count": 11,
   "source": [
    "with open('../MERGE_OCEAN/Annotations/rand_mixup.json', 'w') as json_file:\n",
    "    json.dump(transformed_annotations, json_file)\n",
    "json_file.close()"
   ],
   "outputs": [],
   "metadata": {}
  },
  {
   "cell_type": "code",
   "execution_count": null,
   "source": [],
   "outputs": [],
   "metadata": {}
  }
 ],
 "metadata": {
  "kernelspec": {
   "display_name": "Python 3",
   "language": "python",
   "name": "python3"
  },
  "language_info": {
   "codemirror_mode": {
    "name": "ipython",
    "version": 3
   },
   "file_extension": ".py",
   "mimetype": "text/x-python",
   "name": "python",
   "nbconvert_exporter": "python",
   "pygments_lexer": "ipython3",
   "version": "3.8.10"
  }
 },
 "nbformat": 4,
 "nbformat_minor": 4
}